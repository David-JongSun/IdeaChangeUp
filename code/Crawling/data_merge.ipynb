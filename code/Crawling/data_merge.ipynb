{
 "cells": [
  {
   "cell_type": "code",
   "execution_count": 1,
   "metadata": {},
   "outputs": [],
   "source": [
    "import pickle"
   ]
  },
  {
   "cell_type": "code",
   "execution_count": 2,
   "metadata": {},
   "outputs": [],
   "source": [
    "with open('raw_dataset_a', 'rb') as f:\n",
    "    dataset_a = pickle.load(f)\n",
    "\n",
    "with open('raw_dataset_b', 'rb') as f:\n",
    "    dataset_b = pickle.load(f)\n",
    "\n",
    "with open('raw_dataset_c', 'rb') as f:\n",
    "    dataset_c = pickle.load(f)\n",
    "    \n",
    "with open('raw_dataset_d', 'rb') as f:\n",
    "    dataset_d = pickle.load(f)\n",
    "\n",
    "with open('raw_dataset_e', 'rb') as f:\n",
    "    dataset_e = pickle.load(f)\n",
    "    \n",
    "with open('raw_dataset_f', 'rb') as f:\n",
    "    dataset_f = pickle.load(f)\n",
    "\n",
    "with open('raw_dataset_g', 'rb') as f:\n",
    "    dataset_g = pickle.load(f)\n",
    "    \n",
    "with open('raw_dataset_h', 'rb') as f:\n",
    "    dataset_h = pickle.load(f)"
   ]
  },
  {
   "cell_type": "code",
   "execution_count": 3,
   "metadata": {},
   "outputs": [],
   "source": [
    "dataset = []\n",
    "\n",
    "dataset.extend(dataset_a)\n",
    "dataset.extend(dataset_b)\n",
    "dataset.extend(dataset_c)\n",
    "dataset.extend(dataset_d)\n",
    "dataset.extend(dataset_e)\n",
    "dataset.extend(dataset_f)\n",
    "dataset.extend(dataset_g)\n",
    "dataset.extend(dataset_h)"
   ]
  },
  {
   "cell_type": "code",
   "execution_count": 7,
   "metadata": {},
   "outputs": [],
   "source": [
    "with open(\"raw_dataset\", \"wb\") as f:\n",
    "    pickle.dump(dataset, f)"
   ]
  },
  {
   "cell_type": "code",
   "execution_count": null,
   "metadata": {},
   "outputs": [],
   "source": []
  }
 ],
 "metadata": {
  "kernelspec": {
   "display_name": "conv1",
   "language": "python",
   "name": "conv1"
  },
  "language_info": {
   "codemirror_mode": {
    "name": "ipython",
    "version": 3
   },
   "file_extension": ".py",
   "mimetype": "text/x-python",
   "name": "python",
   "nbconvert_exporter": "python",
   "pygments_lexer": "ipython3",
   "version": "3.8.13"
  },
  "orig_nbformat": 4
 },
 "nbformat": 4,
 "nbformat_minor": 2
}
